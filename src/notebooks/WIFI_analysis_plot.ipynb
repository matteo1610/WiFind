{
 "cells": [
  {
   "cell_type": "code",
   "execution_count": null,
   "metadata": {},
   "outputs": [
    {
     "ename": "",
     "evalue": "",
     "output_type": "error",
     "traceback": [
      "\u001b[1;31mRunning cells with 'Python 3.13.2' requires the ipykernel package.\n",
      "\u001b[1;31mRun the following command to install 'ipykernel' into the Python environment. \n",
      "\u001b[1;31mCommand: '/usr/local/bin/python3 -m pip install ipykernel -U --user --force-reinstall'"
     ]
    }
   ],
   "source": [
    "import pandas as pd\n",
    "import numpy as np\n",
    "import matplotlib.pyplot as plt\n",
    "import seaborn as sns\n",
    "from sklearn.cluster import KMeans\n",
    "\n",
    "# Caricamento del dataset\n",
    "file_path = \"../../data/processed/wifi_fingerprinting_dataset.csv\"\n",
    "df = pd.read_csv(file_path)\n",
    "\n",
    "# Rimozione delle colonne non numeriche\n",
    "ap_columns = [col for col in df.columns if \"AP\" in col]\n",
    "\n",
    "# 1. Istogramma della distribuzione dell’RSSI per un determinato AP\n",
    "ap_to_plot = \"AP1\"\n",
    "plt.figure(figsize=(8, 5))\n",
    "sns.histplot(df[ap_to_plot].dropna(), bins=30, kde=True)\n",
    "plt.title(f\"Distribuzione RSSI per {ap_to_plot}\")\n",
    "plt.xlabel(\"RSSI (dBm)\")\n",
    "plt.ylabel(\"Frequenza\")\n",
    "plt.show()\n",
    "\n",
    "# 2. Boxplot per confrontare la distribuzione dei segnali tra diversi AP\n",
    "plt.figure(figsize=(12, 6))\n",
    "sns.boxplot(data=df[ap_columns])\n",
    "plt.xticks(rotation=90)\n",
    "plt.title(\"Distribuzione dei livelli di segnale per ogni AP\")\n",
    "plt.ylabel(\"RSSI (dBm)\")\n",
    "plt.show()\n",
    "\n",
    "# 3. Heatmap della potenza del segnale per ogni aula\n",
    "pivot_df = df.groupby(\"Aula\")[ap_columns].mean()\n",
    "plt.figure(figsize=(12, 6))\n",
    "sns.heatmap(pivot_df, cmap=\"coolwarm\", annot=False)\n",
    "plt.title(\"Mappa di calore della potenza del segnale per aula\")\n",
    "plt.xlabel(\"Access Points\")\n",
    "plt.ylabel(\"Aule\")\n",
    "plt.show()\n",
    "\n",
    "# 4. Clustering delle aule basato sulla fingerprint WiFi\n",
    "X = df[ap_columns].fillna(-100)  # Sostituiamo i NaN con un valore di segnale basso\n",
    "kmeans = KMeans(n_clusters=3, random_state=42)\n",
    "df[\"Cluster\"] = kmeans.fit_predict(X)\n",
    "plt.figure(figsize=(8, 5))\n",
    "sns.scatterplot(x=df[ap_columns].mean(axis=1), y=df[ap_columns].std(axis=1), hue=df[\"Cluster\"], palette=\"viridis\")\n",
    "plt.xlabel(\"Media RSSI\")\n",
    "plt.ylabel(\"Deviazione Standard RSSI\")\n",
    "plt.title(\"Cluster delle aule basato sul WiFi fingerprint\")\n",
    "plt.show()\n",
    "\n",
    "# 5. Analisi della copertura degli AP\n",
    "coverage = (df[ap_columns] > -80).sum().sort_values(ascending=False)  # Conta le rilevazioni sopra -80 dBm\n",
    "plt.figure(figsize=(12, 5))\n",
    "sns.barplot(x=coverage.index, y=coverage.values)\n",
    "plt.xticks(rotation=90)\n",
    "plt.title(\"Copertura degli Access Point\")\n",
    "plt.ylabel(\"Numero di rilevazioni con segnale forte\")\n",
    "plt.show()\n"
   ]
  }
 ],
 "metadata": {
  "kernelspec": {
   "display_name": "Python 3",
   "language": "python",
   "name": "python3"
  },
  "language_info": {
   "codemirror_mode": {
    "name": "ipython",
    "version": 3
   },
   "file_extension": ".py",
   "mimetype": "text/x-python",
   "name": "python",
   "nbconvert_exporter": "python",
   "pygments_lexer": "ipython3",
   "version": "3.13.2"
  }
 },
 "nbformat": 4,
 "nbformat_minor": 2
}
